{
 "cells": [
  {
   "cell_type": "code",
   "execution_count": 4,
   "metadata": {},
   "outputs": [],
   "source": [
    "import xml.etree.ElementTree as ET\n",
    "import nltk\n",
    "from nltk.corpus import stopwords\n",
    "\n",
    "polish_stopwords = set(stopwords.words('polish'))\n",
    "folder = 'NIE'\n",
    "\n",
    "tree = ET.parse('./polish/' + folder + '/ann_named.xml')\n",
    "root = tree.getroot()\n",
    "\n",
    "mapping = {\n",
    "     'orgName': 'ORGANIZATION',\n",
    "     'persName': 'PERSON',\n",
    "     'geogName': 'GEOGRAPHY',\n",
    "     'placeName': 'PLACE',\n",
    "     'date': 'DATE',\n",
    "     'time': 'TIME'\n",
    "     }\n",
    "\n",
    "named_entities = {}\n",
    "\n",
    "for t in root.iter('{http://www.tei-c.org/ns/1.0}seg'):\n",
    "    ne_type = ''\n",
    "    ne_value = ''\n",
    "\n",
    "    for z in t.iter(\"{http://www.tei-c.org/ns/1.0}f\"):\n",
    "        if z.attrib['name'] == 'type':\n",
    "            ne_type = z.find('{http://www.tei-c.org/ns/1.0}symbol').attrib['value']\n",
    "        if z.attrib['name'] == 'orth':\n",
    "            ne_value = z.find('{http://www.tei-c.org/ns/1.0}string').text\n",
    "    named_entities[ne_value] = mapping[ne_type]\n",
    "\n",
    "r = nltk.corpus.reader.NKJPCorpusReader(root='./corpus/', \n",
    "                                        fileids=folder)\n",
    "with open('./ner-polish.tsv', 'w') as f:\n",
    "    for w in r.words():\n",
    "        if w.lower() in polish_stopwords:\n",
    "            continue\n",
    "        if w in named_entities.keys():\n",
    "            f.write(\"{}\\t{}\".format(w.encode(\"utf-8\"), named_entities[w]))\n",
    "        else:\n",
    "            f.write(\"{}\\t{}\".format(w.encode(\"utf-8\"), \"O\"))\n",
    "        \n",
    "\n"
   ]
  },
  {
   "cell_type": "markdown",
   "metadata": {},
   "source": [
    "*Buiding the model*\n",
    "\n",
    "#prop.txt - file\n",
    "```\n",
    "trainFile = train/ner-polish.tsv\n",
    "serializeTo = dummy-ner-model-polish.ser.gz\n",
    "map = word=0,answer=1\n",
    "\n",
    "useClassFeature=true\n",
    "useWord=true\n",
    "useNGrams=true\n",
    "noMidNGrams=true\n",
    "maxNGramLeng=6\n",
    "usePrev=true\n",
    "useNext=true\n",
    "useSequences=true\n",
    "usePrevSequences=true\n",
    "maxLeft=1\n",
    "useTypeSeqs=true\n",
    "useTypeSeqs2=true\n",
    "useTypeySequences=true\n",
    "wordShape=chris2useLC\n",
    "useDisjunctive=true\n",
    "```\n",
    "\n",
    "run java stanford trainer\n",
    "\n",
    "```\n",
    "java -cp \"stanford-ner.jar:lib/*\" -mx4g edu.stanford.nlp.ie.crf.CRFClassifier -prop train/prop.txt\n",
    "```\n",
    "\n",
    "Then you can test your train model in python"
   ]
  },
  {
   "cell_type": "code",
   "execution_count": 6,
   "metadata": {},
   "outputs": [
    {
     "name": "stdout",
     "output_type": "stream",
     "text": [
      "['4.01.1928', 'urodził', 'się', 'Tadeusz', 'Dominik', '-', 'jeden', 'z', 'najwybitniejszych', 'malarzy', 'polskich', '.', 'Wiewiórki', 'nam', 'doniosły', ',', 'że', 'wygląda', 'na', 'lat', 'pięćdziesiąt', '.', 'No', ',', 'to', 'życzymy', 'jeszcze', 'pięćdziesięciu', '!']\n",
      "[('4.01.1928', 'O'), ('urodził', 'O'), ('się', 'O'), ('Tadeusz', 'PERSON'), ('Dominik', 'PERSON'), ('-', 'O'), ('jeden', 'O'), ('z', 'O'), ('najwybitniejszych', 'O'), ('malarzy', 'O'), ('polskich', 'O'), ('.', 'O'), ('Wiewiórki', 'O'), ('nam', 'O'), ('doniosły', 'O'), (',', 'O'), ('że', 'O'), ('wygląda', 'O'), ('na', 'O'), ('lat', 'O'), ('pięćdziesiąt', 'O'), ('.', 'O'), ('No', 'O'), (',', 'O'), ('to', 'O'), ('życzymy', 'O'), ('jeszcze', 'O'), ('pięćdziesięciu', 'O'), ('!', 'O')]\n"
     ]
    }
   ],
   "source": [
    "import nltk\n",
    "from nltk.tag.stanford import StanfordNERTagger\n",
    "\n",
    "# Optional\n",
    "import os\n",
    "\n",
    "\n",
    "sentence = u'4.01.1928 urodził się Tadeusz Dominik - jeden z najwybitniejszych malarzy polskich. Wiewiórki nam doniosły, że wygląda na lat pięćdziesiąt. No, to życzymy jeszcze pięćdziesięciu!'\n",
    "\n",
    "jar = './ner/stanford-ner/stanford-ner.jar'\n",
    "model = './ner/stanford-ner/dummy-ner-model-polish.ser.gz'\n",
    "\n",
    "ner_tagger = StanfordNERTagger(model, jar, encoding='utf8')\n",
    "\n",
    "words = nltk.word_tokenize(sentence)\n",
    "print (words)\n",
    "print(ner_tagger.tag(words))\n"
   ]
  },
  {
   "cell_type": "code",
   "execution_count": null,
   "metadata": {},
   "outputs": [],
   "source": []
  }
 ],
 "metadata": {
  "kernelspec": {
   "display_name": "Python 3",
   "language": "python",
   "name": "python3"
  },
  "language_info": {
   "codemirror_mode": {
    "name": "ipython",
    "version": 3
   },
   "file_extension": ".py",
   "mimetype": "text/x-python",
   "name": "python",
   "nbconvert_exporter": "python",
   "pygments_lexer": "ipython3",
   "version": "3.7.4"
  }
 },
 "nbformat": 4,
 "nbformat_minor": 2
}
